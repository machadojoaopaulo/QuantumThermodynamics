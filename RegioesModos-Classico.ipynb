version https://git-lfs.github.com/spec/v1
oid sha256:b28a8cdce5e41d530e06603dca29422aa4db83fc2fa0e803d58e8e9e6a62688e
size 16694042
