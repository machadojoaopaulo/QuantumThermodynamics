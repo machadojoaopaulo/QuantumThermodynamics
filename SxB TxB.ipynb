version https://git-lfs.github.com/spec/v1
oid sha256:13b7dbe73ac5ab85a4f1496ea00842702d538cd961c2142d9e9a4a0e8d773b77
size 42445
