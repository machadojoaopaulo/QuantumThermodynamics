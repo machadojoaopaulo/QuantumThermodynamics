version https://git-lfs.github.com/spec/v1
oid sha256:ba1880e1df19b701e4a671c53cd845f0ed15ebda9c554e49e681ad3a0104669e
size 111283
