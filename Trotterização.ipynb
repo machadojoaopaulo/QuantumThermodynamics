version https://git-lfs.github.com/spec/v1
oid sha256:75908b7e97bd36b93810d9077b248d22cfbafcec00c9851f80b215fd6500d761
size 815992
