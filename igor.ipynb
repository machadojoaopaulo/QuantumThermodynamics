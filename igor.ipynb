version https://git-lfs.github.com/spec/v1
oid sha256:fced6e0e4a94f02e1c32bd21f6ca3d2c867c84fabd0f7584c23e928a91d5f6e3
size 116116
