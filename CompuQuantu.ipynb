version https://git-lfs.github.com/spec/v1
oid sha256:2c4082944f333c6f02083785fc7fc1660fc012646db6fc683009798be280725d
size 852469
