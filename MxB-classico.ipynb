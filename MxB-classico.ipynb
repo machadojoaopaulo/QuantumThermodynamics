version https://git-lfs.github.com/spec/v1
oid sha256:ae874c0dee08853a040bef06f390f5ef75e8a1c1b24b5ec72ff44e116d9c1624
size 4165067
