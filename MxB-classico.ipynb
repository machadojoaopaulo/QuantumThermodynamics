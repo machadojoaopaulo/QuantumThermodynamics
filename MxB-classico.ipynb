version https://git-lfs.github.com/spec/v1
oid sha256:6e436df2d5fab2c9b920c693b5f495d1b9a6a36db58c967421a10da10a2364af
size 10089600
