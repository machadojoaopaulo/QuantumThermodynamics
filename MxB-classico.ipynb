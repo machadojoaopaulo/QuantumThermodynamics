version https://git-lfs.github.com/spec/v1
oid sha256:f481f51cf032d49f4769028c315ec9b434f6932fc1520732e5578bd20a67dbfd
size 11073149
