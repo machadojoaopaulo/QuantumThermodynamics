version https://git-lfs.github.com/spec/v1
oid sha256:1718f13cf11e8e02d5a6b679c9e79e936970368b0ae5e956eb855b290a008046
size 7500301
