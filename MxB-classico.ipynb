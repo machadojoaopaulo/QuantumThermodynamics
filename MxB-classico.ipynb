version https://git-lfs.github.com/spec/v1
oid sha256:41fb7ee401625a6d7976cb6f1438c305b316211252b4146f10f27abf3b873644
size 6495864
