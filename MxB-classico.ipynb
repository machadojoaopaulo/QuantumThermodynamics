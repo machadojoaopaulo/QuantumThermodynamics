version https://git-lfs.github.com/spec/v1
oid sha256:17603a48d328c7cb07de6ec865757e99d1fc083de49dc0c8a441b078c27b3d4c
size 6813297
