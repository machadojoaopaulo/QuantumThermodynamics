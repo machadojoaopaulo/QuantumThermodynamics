version https://git-lfs.github.com/spec/v1
oid sha256:cbd7b110a184feff5a084ae220edbc5a60c91a416f6a0275c673aa40a05cdc57
size 8431933
