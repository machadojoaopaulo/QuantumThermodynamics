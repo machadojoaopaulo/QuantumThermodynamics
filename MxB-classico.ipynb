version https://git-lfs.github.com/spec/v1
oid sha256:527d92fc1be55deb44f5c74ce586e935a8d10173e4dfcece64c360e9366bb70a
size 6495861
