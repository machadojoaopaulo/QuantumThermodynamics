version https://git-lfs.github.com/spec/v1
oid sha256:5e7c932dab077f4a117c139f403d246b26902f95a75499600cb5b4305c92a399
size 10366992
