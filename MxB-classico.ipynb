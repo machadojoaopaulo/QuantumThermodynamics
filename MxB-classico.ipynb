version https://git-lfs.github.com/spec/v1
oid sha256:4b8a48751ce035bec8f8da55935d6040ff919fed63772af42359021c2b8c9719
size 9777213
