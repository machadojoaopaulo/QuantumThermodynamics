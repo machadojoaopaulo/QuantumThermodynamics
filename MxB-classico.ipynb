version https://git-lfs.github.com/spec/v1
oid sha256:16c6f8667b58805639e67141b2dd240478bceb7c78355d3deb9004521892be24
size 8116889
