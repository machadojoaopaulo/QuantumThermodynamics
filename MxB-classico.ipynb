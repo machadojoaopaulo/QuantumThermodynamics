version https://git-lfs.github.com/spec/v1
oid sha256:1bbcdd6c3d18510de110e0d96014d6d9d071f622b2a1d1e0e176fdc83897a132
size 3200659
