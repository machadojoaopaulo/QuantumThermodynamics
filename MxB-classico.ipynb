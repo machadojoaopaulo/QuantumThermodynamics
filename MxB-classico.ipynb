version https://git-lfs.github.com/spec/v1
oid sha256:0c727a110fc04862f82db5486858977924b4119a547837938b398cde151febf1
size 6806404
