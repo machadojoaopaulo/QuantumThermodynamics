version https://git-lfs.github.com/spec/v1
oid sha256:63fd9cd43d15fad5ffe665e0075bbd3cfad4ae821b13d8b00e384c97d80b73b4
size 1660738
