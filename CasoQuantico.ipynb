version https://git-lfs.github.com/spec/v1
oid sha256:c9b09428f329842589e7347b88efea628b2e7dcc15a551ee78cca65196b7f30d
size 1682550
