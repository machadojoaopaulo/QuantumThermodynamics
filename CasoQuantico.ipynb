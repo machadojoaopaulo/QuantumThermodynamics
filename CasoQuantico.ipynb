version https://git-lfs.github.com/spec/v1
oid sha256:52556e1343203cf0b691d329a3d2d0a195f9aa38c474057cb19664f962fb4fb9
size 261161
