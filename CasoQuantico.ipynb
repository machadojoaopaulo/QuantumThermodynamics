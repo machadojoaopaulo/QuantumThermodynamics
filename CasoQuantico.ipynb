version https://git-lfs.github.com/spec/v1
oid sha256:1296daf84559ffc182432e57a89016f68a5578a31a351736666a87f7b5aeb5d1
size 1711021
