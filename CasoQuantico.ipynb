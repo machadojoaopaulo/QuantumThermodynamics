version https://git-lfs.github.com/spec/v1
oid sha256:ee3137b58549e8d9ff3c9dea9e4ec5068d7e29aad22839fe18a638f5af022e9c
size 1529954
