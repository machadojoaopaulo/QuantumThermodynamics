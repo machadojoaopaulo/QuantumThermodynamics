version https://git-lfs.github.com/spec/v1
oid sha256:75657a5523d36c66c4c898df25f17346e08f20c2ae040fa81cc8f53499134c52
size 1538437
