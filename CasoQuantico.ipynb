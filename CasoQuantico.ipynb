version https://git-lfs.github.com/spec/v1
oid sha256:c60933f8363adf04887fc4f9be1e9ef5085f0037a55ac29b8740aabecb58af12
size 1660746
