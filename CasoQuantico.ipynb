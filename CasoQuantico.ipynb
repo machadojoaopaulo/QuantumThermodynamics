version https://git-lfs.github.com/spec/v1
oid sha256:da0fc7bb473087d329cc679c4cfd0de75203978fee217299721b9b8f9e69a46d
size 1689704
