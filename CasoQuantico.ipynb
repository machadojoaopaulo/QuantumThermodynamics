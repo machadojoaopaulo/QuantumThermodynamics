version https://git-lfs.github.com/spec/v1
oid sha256:be925c7720ca50c605bc3988c29f6c16de6b91e6671172c03939bc6b6db1ce4f
size 763371
