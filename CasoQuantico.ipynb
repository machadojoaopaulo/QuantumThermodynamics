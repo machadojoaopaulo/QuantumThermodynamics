version https://git-lfs.github.com/spec/v1
oid sha256:13776e6e26e6bfb39a9a63b126d7df2e89706f1aff694c4c6b35222d3b31337c
size 1454854
