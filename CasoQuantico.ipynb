version https://git-lfs.github.com/spec/v1
oid sha256:ef733fbc925c49e02f9686ab22c58d90fc0c2048556b0e2a86e8ad2c26180827
size 1686526
