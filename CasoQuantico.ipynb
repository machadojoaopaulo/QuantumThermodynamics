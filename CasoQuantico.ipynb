version https://git-lfs.github.com/spec/v1
oid sha256:f320470294e0967cd94a48a03305022ceaca4b56a8e274a167f60ddfc4026483
size 1682541
