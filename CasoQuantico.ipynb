version https://git-lfs.github.com/spec/v1
oid sha256:876cc60b73a05e18bc7ba5621fa402889dc912a0e4d7c96c016975f0db6dabc9
size 265313
