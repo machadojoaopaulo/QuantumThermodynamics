version https://git-lfs.github.com/spec/v1
oid sha256:52ac8b19259b93288799867a2f46490ae78c981159121baf2031f80673f753d8
size 193185
