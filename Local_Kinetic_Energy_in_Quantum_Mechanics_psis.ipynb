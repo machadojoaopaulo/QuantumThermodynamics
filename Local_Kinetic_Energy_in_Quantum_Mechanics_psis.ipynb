version https://git-lfs.github.com/spec/v1
oid sha256:d498294ebbdaddc55811a555390e42246b467f5ff10901701dea473b9b7a7619
size 279210
