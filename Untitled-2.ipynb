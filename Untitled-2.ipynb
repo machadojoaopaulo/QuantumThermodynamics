version https://git-lfs.github.com/spec/v1
oid sha256:6e5d86d9d26eaf9a828dff6f17d0b7369ff868142a8b9e5f9a1b945134b52c05
size 49965
