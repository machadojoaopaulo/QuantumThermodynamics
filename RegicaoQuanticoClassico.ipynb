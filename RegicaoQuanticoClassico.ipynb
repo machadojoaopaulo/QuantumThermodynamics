version https://git-lfs.github.com/spec/v1
oid sha256:f9a127638ddbcdfe191ad3ca9c158bbfb3a7e6f2c35289be8de0408d917fe979
size 46131184
