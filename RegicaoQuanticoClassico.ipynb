version https://git-lfs.github.com/spec/v1
oid sha256:19e931fc94f0b883b0b0a19ba6a2f72673f258f7eb8fed073c77c6bad394c44b
size 44156282
