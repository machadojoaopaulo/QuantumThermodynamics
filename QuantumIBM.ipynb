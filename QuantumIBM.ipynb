{
 "cells": [
  {
   "cell_type": "code",
   "execution_count": 27,
   "metadata": {},
   "outputs": [],
   "source": [
    "from qiskit_ibm_runtime import QiskitRuntimeService\n",
    "\n",
    "# Salvar a conta com o canal correto\n",
    "QiskitRuntimeService.save_account(\n",
    "    token=\"75acdb50864742fffa775206d23d065002dab431ae93e543315b268b2e9186d4a307e7ec1f24ef943ec2d1c234b33227e939aff93393d7272b1ea780573d43de\",\n",
    "    channel=\"ibm_quantum\",\n",
    "    overwrite=True\n",
    ")\n"
   ]
  },
  {
   "cell_type": "code",
   "execution_count": 21,
   "metadata": {},
   "outputs": [
    {
     "data": {
      "image/png": "[encoded data removed]",
      "text/plain": [
       "<Figure size 580.387x284.278 with 1 Axes>"
      ]
     },
     "execution_count": 21,
     "metadata": {},
     "output_type": "execute_result"
    }
   ],
   "source": [
    "from qiskit import QuantumCircuit\n",
    "\n",
    "qc = QuantumCircuit(2)\n",
    "qc.h(0)\n",
    "qc.cx(0,1)\n",
    "qc.measure_all()\n",
    "\n",
    "qc.draw(\"mpl\")"
   ]
  },
  {
   "cell_type": "code",
   "execution_count": 22,
   "metadata": {},
   "outputs": [
    {
     "ename": "ValueError",
     "evalue": "An invalid Sampler pub-like was given (<class 'qiskit._accelerate.circuit.CircuitInstruction'>). If you want to run a single circuit, you need to wrap it with `[]` like `sampler.run([circuit])` instead of `sampler.run(circuit)`.",
     "output_type": "error",
     "traceback": [
      "\u001b[0;31m---------------------------------------------------------------------------\u001b[0m",
      "\u001b[0;31mValueError\u001b[0m                                Traceback (most recent call last)",
      "Cell \u001b[0;32mIn[22], line 10\u001b[0m\n\u001b[1;32m      5\u001b[0m backend \u001b[38;5;241m=\u001b[39m service\u001b[38;5;241m.\u001b[39mleast_busy(simulator\u001b[38;5;241m=\u001b[39m\u001b[38;5;28;01mFalse\u001b[39;00m,\n\u001b[1;32m      6\u001b[0m                              operational\u001b[38;5;241m=\u001b[39m\u001b[38;5;28;01mTrue\u001b[39;00m)\n\u001b[1;32m      8\u001b[0m sampler \u001b[38;5;241m=\u001b[39m Sampler(backend)\n\u001b[0;32m---> 10\u001b[0m job \u001b[38;5;241m=\u001b[39m \u001b[43msampler\u001b[49m\u001b[38;5;241;43m.\u001b[39;49m\u001b[43mrun\u001b[49m\u001b[43m(\u001b[49m\u001b[43mqc\u001b[49m\u001b[43m)\u001b[49m\n\u001b[1;32m     12\u001b[0m job\u001b[38;5;241m.\u001b[39mresult()\n",
      "File \u001b[0;32m~/PycharmProjects/temperatureOfAAdiaticProcess/.venv/lib/python3.12/site-packages/qiskit_ibm_runtime/sampler.py:116\u001b[0m, in \u001b[0;36mSamplerV2.run\u001b[0;34m(self, pubs, shots)\u001b[0m\n\u001b[1;32m     98\u001b[0m \u001b[38;5;28;01mdef\u001b[39;00m \u001b[38;5;21mrun\u001b[39m(\u001b[38;5;28mself\u001b[39m, pubs: Iterable[SamplerPubLike], \u001b[38;5;241m*\u001b[39m, shots: \u001b[38;5;28mint\u001b[39m \u001b[38;5;241m|\u001b[39m \u001b[38;5;28;01mNone\u001b[39;00m \u001b[38;5;241m=\u001b[39m \u001b[38;5;28;01mNone\u001b[39;00m) \u001b[38;5;241m-\u001b[39m\u001b[38;5;241m>\u001b[39m RuntimeJobV2:\n\u001b[1;32m     99\u001b[0m \u001b[38;5;250m    \u001b[39m\u001b[38;5;124;03m\"\"\"Submit a request to the sampler primitive.\u001b[39;00m\n\u001b[1;32m    100\u001b[0m \n\u001b[1;32m    101\u001b[0m \u001b[38;5;124;03m    Args:\u001b[39;00m\n\u001b[0;32m   (...)\u001b[0m\n\u001b[1;32m    114\u001b[0m \u001b[38;5;124;03m        ValueError: Invalid arguments are given.\u001b[39;00m\n\u001b[1;32m    115\u001b[0m \u001b[38;5;124;03m    \"\"\"\u001b[39;00m\n\u001b[0;32m--> 116\u001b[0m     coerced_pubs \u001b[38;5;241m=\u001b[39m [\u001b[43mSamplerPub\u001b[49m\u001b[38;5;241;43m.\u001b[39;49m\u001b[43mcoerce\u001b[49m\u001b[43m(\u001b[49m\u001b[43mpub\u001b[49m\u001b[43m,\u001b[49m\u001b[43m \u001b[49m\u001b[43mshots\u001b[49m\u001b[43m)\u001b[49m \u001b[38;5;28;01mfor\u001b[39;00m pub \u001b[38;5;129;01min\u001b[39;00m pubs]\n\u001b[1;32m    118\u001b[0m     validate_classical_registers(coerced_pubs)\n\u001b[1;32m    120\u001b[0m     \u001b[38;5;28;01mreturn\u001b[39;00m \u001b[38;5;28mself\u001b[39m\u001b[38;5;241m.\u001b[39m_run(coerced_pubs)\n",
      "File \u001b[0;32m~/PycharmProjects/temperatureOfAAdiaticProcess/.venv/lib/python3.12/site-packages/qiskit/primitives/containers/sampler_pub.py:118\u001b[0m, in \u001b[0;36mSamplerPub.coerce\u001b[0;34m(cls, pub, shots)\u001b[0m\n\u001b[1;32m    115\u001b[0m     \u001b[38;5;28;01mreturn\u001b[39;00m \u001b[38;5;28mcls\u001b[39m(circuit\u001b[38;5;241m=\u001b[39mpub, shots\u001b[38;5;241m=\u001b[39mshots, validate\u001b[38;5;241m=\u001b[39m\u001b[38;5;28;01mTrue\u001b[39;00m)\n\u001b[1;32m    117\u001b[0m \u001b[38;5;28;01mif\u001b[39;00m \u001b[38;5;28misinstance\u001b[39m(pub, CircuitInstruction):\n\u001b[0;32m--> 118\u001b[0m     \u001b[38;5;28;01mraise\u001b[39;00m \u001b[38;5;167;01mValueError\u001b[39;00m(\n\u001b[1;32m    119\u001b[0m         \u001b[38;5;124mf\u001b[39m\u001b[38;5;124m\"\u001b[39m\u001b[38;5;124mAn invalid Sampler pub-like was given (\u001b[39m\u001b[38;5;132;01m{\u001b[39;00m\u001b[38;5;28mtype\u001b[39m(pub)\u001b[38;5;132;01m}\u001b[39;00m\u001b[38;5;124m). \u001b[39m\u001b[38;5;124m\"\u001b[39m\n\u001b[1;32m    120\u001b[0m         \u001b[38;5;124m\"\u001b[39m\u001b[38;5;124mIf you want to run a single circuit, \u001b[39m\u001b[38;5;124m\"\u001b[39m\n\u001b[1;32m    121\u001b[0m         \u001b[38;5;124m\"\u001b[39m\u001b[38;5;124myou need to wrap it with `[]` like `sampler.run([circuit])` \u001b[39m\u001b[38;5;124m\"\u001b[39m\n\u001b[1;32m    122\u001b[0m         \u001b[38;5;124m\"\u001b[39m\u001b[38;5;124minstead of `sampler.run(circuit)`.\u001b[39m\u001b[38;5;124m\"\u001b[39m\n\u001b[1;32m    123\u001b[0m     )\n\u001b[1;32m    125\u001b[0m \u001b[38;5;28;01mif\u001b[39;00m \u001b[38;5;28mlen\u001b[39m(pub) \u001b[38;5;129;01mnot\u001b[39;00m \u001b[38;5;129;01min\u001b[39;00m [\u001b[38;5;241m1\u001b[39m, \u001b[38;5;241m2\u001b[39m, \u001b[38;5;241m3\u001b[39m]:\n\u001b[1;32m    126\u001b[0m     \u001b[38;5;28;01mraise\u001b[39;00m \u001b[38;5;167;01mValueError\u001b[39;00m(\n\u001b[1;32m    127\u001b[0m         \u001b[38;5;124mf\u001b[39m\u001b[38;5;124m\"\u001b[39m\u001b[38;5;124mThe length of pub must be 1, 2 or 3, but length \u001b[39m\u001b[38;5;132;01m{\u001b[39;00m\u001b[38;5;28mlen\u001b[39m(pub)\u001b[38;5;132;01m}\u001b[39;00m\u001b[38;5;124m is given.\u001b[39m\u001b[38;5;124m\"\u001b[39m\n\u001b[1;32m    128\u001b[0m     )\n",
      "\u001b[0;31mValueError\u001b[0m: An invalid Sampler pub-like was given (<class 'qiskit._accelerate.circuit.CircuitInstruction'>). If you want to run a single circuit, you need to wrap it with `[]` like `sampler.run([circuit])` instead of `sampler.run(circuit)`."
     ]
    }
   ],
   "source": [
    "from qiskit_ibm_runtime import QiskitRuntimeService,Sampler\n",
    "\n",
    "service = QiskitRuntimeService()\n",
    "\n",
    "backend = service.least_busy(simulator=False,\n",
    "                             operational=True)\n",
    "\n",
    "sampler = Sampler(backend)\n",
    "\n",
    "job = sampler.run(qc)\n",
    "\n",
    "job.result()"
   ]
  },
  {
   "cell_type": "code",
   "execution_count": null,
   "metadata": {},
   "outputs": [
    {
     "name": "stdout",
     "output_type": "stream",
     "text": [
      "Erro ao selecionar backend: 'No backend matches the criteria.'\n"
     ]
    },
    {
     "ename": "NameError",
     "evalue": "name 'backend' is not defined",
     "output_type": "error",
     "traceback": [
      "\u001b[0;31m---------------------------------------------------------------------------\u001b[0m",
      "\u001b[0;31mNameError\u001b[0m                                 Traceback (most recent call last)",
      "Cell \u001b[0;32mIn[1], line 23\u001b[0m\n\u001b[1;32m     20\u001b[0m qc\u001b[38;5;241m.\u001b[39mmeasure_all()  \u001b[38;5;66;03m# Adicionar medições\u001b[39;00m\n\u001b[1;32m     22\u001b[0m \u001b[38;5;66;03m# Configurar o sampler\u001b[39;00m\n\u001b[0;32m---> 23\u001b[0m sampler \u001b[38;5;241m=\u001b[39m StatevectorSampler(backend\u001b[38;5;241m=\u001b[39m\u001b[43mbackend\u001b[49m)  \u001b[38;5;66;03m# Passar o backend escolhido\u001b[39;00m\n\u001b[1;32m     25\u001b[0m \u001b[38;5;66;03m# O método `run` espera uma lista de circuitos\u001b[39;00m\n\u001b[1;32m     26\u001b[0m job \u001b[38;5;241m=\u001b[39m sampler\u001b[38;5;241m.\u001b[39mrun([qc])  \u001b[38;5;66;03m# Passar o circuito como uma lista\u001b[39;00m\n",
      "\u001b[0;31mNameError\u001b[0m: name 'backend' is not defined"
     ]
    },
    {
     "ename": "",
     "evalue": "",
     "output_type": "error",
     "traceback": [
      "\u001b[1;31mThe Kernel crashed while executing code in the current cell or a previous cell. \n",
      "\u001b[1;31mPlease review the code in the cell(s) to identify a possible cause of the failure. \n",
      "\u001b[1;31mClick <a href='https://aka.ms/vscodeJupyterKernelCrash'>here</a> for more info. \n",
      "\u001b[1;31mView Jupyter <a href='command:jupyter.viewOutput'>log</a> for further details."
     ]
    }
   ],
   "source": [
    "from qiskit import QuantumCircuit\n",
    "from qiskit_ibm_runtime import QiskitRuntimeService\n",
    "from qiskit.primitives import StatevectorSampler\n",
    "\n",
    "# Inicializar o serviço IBM Quantum\n",
    "service = QiskitRuntimeService()\n",
    "\n",
    "# Tentar selecionar o backend menos ocupado\n",
    "try:\n",
    "    backend = service.least_busy(simulator=True, operational=True)  # Alterado para buscar simuladores\n",
    "    print(f\"Usando o backend: {backend}\")\n",
    "except Exception as e:\n",
    "    print(f\"Erro ao selecionar backend: {e}\")\n",
    "    exit()\n",
    "\n",
    "# Criar o circuito quântico\n",
    "qc = QuantumCircuit(2)\n",
    "qc.h(0)  # Aplicar Hadamard no qubit 0\n",
    "qc.cx(0, 1)  # Aplicar CNOT\n",
    "qc.measure_all()  # Adicionar medições\n",
    "\n",
    "# Configurar o sampler\n",
    "sampler = StatevectorSampler(backend=backend)  # Passar o backend escolhido\n",
    "\n",
    "# O método `run` espera uma lista de circuitos\n",
    "job = sampler.run([qc])  # Passar o circuito como uma lista\n",
    "\n",
    "# Obter os resultados do trabalho\n",
    "result = job.result()\n",
    "\n",
    "# Exibir os resultados\n",
    "print(\"Resultados:\", result.quasi_dists)  # Aqui acessamos as distribuições quasi-clássicas\n"
   ]
  },
  {
   "cell_type": "code",
   "execution_count": 35,
   "metadata": {},
   "outputs": [
    {
     "name": "stdout",
     "output_type": "stream",
     "text": [
      "Usando o backend: <IBMBackend('ibm_brisbane')>\n"
     ]
    },
    {
     "ename": "AttributeError",
     "evalue": "'PrimitiveResult' object has no attribute 'quasi_dists'",
     "output_type": "error",
     "traceback": [
      "\u001b[0;31m---------------------------------------------------------------------------\u001b[0m",
      "\u001b[0;31mAttributeError\u001b[0m                            Traceback (most recent call last)",
      "Cell \u001b[0;32mIn[35], line 32\u001b[0m\n\u001b[1;32m     29\u001b[0m result \u001b[38;5;241m=\u001b[39m job\u001b[38;5;241m.\u001b[39mresult()\n\u001b[1;32m     31\u001b[0m \u001b[38;5;66;03m# Exibir os resultados\u001b[39;00m\n\u001b[0;32m---> 32\u001b[0m \u001b[38;5;28mprint\u001b[39m(\u001b[38;5;124m\"\u001b[39m\u001b[38;5;124mResultados:\u001b[39m\u001b[38;5;124m\"\u001b[39m, \u001b[43mresult\u001b[49m\u001b[38;5;241;43m.\u001b[39;49m\u001b[43mquasi_dists\u001b[49m)\n",
      "\u001b[0;31mAttributeError\u001b[0m: 'PrimitiveResult' object has no attribute 'quasi_dists'"
     ]
    }
   ],
   "source": [
    "from qiskit import QuantumCircuit\n",
    "from qiskit_ibm_runtime import QiskitRuntimeService\n",
    "from qiskit.primitives import StatevectorSampler\n",
    "\n",
    "# Inicializar o serviço IBM Quantum\n",
    "service = QiskitRuntimeService()\n",
    "\n",
    "# Tentar selecionar o backend menos ocupado\n",
    "try:\n",
    "    backend = service.least_busy(simulator=False, operational=True)\n",
    "    print(f\"Usando o backend: {backend}\")\n",
    "except Exception as e:\n",
    "    print(f\"Erro ao selecionar backend: {e}\")\n",
    "    exit()\n",
    "\n",
    "# Criar o circuito quântico\n",
    "qc = QuantumCircuit(2)\n",
    "qc.h(0)  # Aplicar Hadamard no qubit 0\n",
    "qc.cx(0, 1)  # Aplicar CNOT\n",
    "qc.measure_all()  # Adicionar medições\n",
    "\n",
    "# Configurar o sampler\n",
    "sampler = StatevectorSampler()\n",
    "\n",
    "# O método `run` espera uma lista de circuitos\n",
    "job = sampler.run([qc])  # Passar o circuito como uma lista\n",
    "\n",
    "# Obter os resultados do trabalho\n",
    "result = job.result()\n",
    "\n",
    "# Exibir os resultados\n",
    "print(\"Resultados:\", result.quasi_dists)\n"
   ]
  },
  {
   "cell_type": "code",
   "execution_count": 30,
   "metadata": {},
   "outputs": [
    {
     "name": "stdout",
     "output_type": "stream",
     "text": [
      "Usando o backend: <IBMBackend('ibm_brisbane')>\n"
     ]
    },
    {
     "ename": "TypeError",
     "evalue": "SamplerV2.__init__() got an unexpected keyword argument 'backend'",
     "output_type": "error",
     "traceback": [
      "\u001b[0;31m---------------------------------------------------------------------------\u001b[0m",
      "\u001b[0;31mTypeError\u001b[0m                                 Traceback (most recent call last)",
      "Cell \u001b[0;32mIn[30], line 18\u001b[0m\n\u001b[1;32m     15\u001b[0m qc\u001b[38;5;241m.\u001b[39mmeasure_all()  \u001b[38;5;66;03m# Adicionar medições\u001b[39;00m\n\u001b[1;32m     17\u001b[0m \u001b[38;5;66;03m# Configurar o sampler com o backend\u001b[39;00m\n\u001b[0;32m---> 18\u001b[0m sampler \u001b[38;5;241m=\u001b[39m \u001b[43mSampler\u001b[49m\u001b[43m(\u001b[49m\u001b[43mbackend\u001b[49m\u001b[38;5;241;43m=\u001b[39;49m\u001b[43mbackend\u001b[49m\u001b[43m)\u001b[49m  \u001b[38;5;66;03m# Passar o backend selecionado\u001b[39;00m\n\u001b[1;32m     20\u001b[0m \u001b[38;5;66;03m# O método `run` espera uma lista de circuitos\u001b[39;00m\n\u001b[1;32m     21\u001b[0m job \u001b[38;5;241m=\u001b[39m sampler\u001b[38;5;241m.\u001b[39mrun([qc])  \u001b[38;5;66;03m# Passar o circuito como uma lista\u001b[39;00m\n",
      "\u001b[0;31mTypeError\u001b[0m: SamplerV2.__init__() got an unexpected keyword argument 'backend'"
     ]
    }
   ],
   "source": [
    "from qiskit import QuantumCircuit\n",
    "from qiskit_ibm_runtime import QiskitRuntimeService, Sampler\n",
    "\n",
    "# Inicializar o serviço IBM Quantum\n",
    "service = QiskitRuntimeService()\n",
    "\n",
    "# Selecionar o backend menos ocupado\n",
    "backend = service.least_busy(simulator=False, operational=True)\n",
    "print(f\"Usando o backend: {backend}\")\n",
    "\n",
    "# Criar o circuito quântico\n",
    "qc = QuantumCircuit(2)\n",
    "qc.h(0)  # Aplicar Hadamard no qubit 0\n",
    "qc.cx(0, 1)  # Aplicar CNOT\n",
    "qc.measure_all()  # Adicionar medições\n",
    "\n",
    "# Configurar o sampler com o backend\n",
    "sampler = Sampler(backend=backend)  # Passar o backend selecionado\n",
    "\n",
    "# O método `run` espera uma lista de circuitos\n",
    "job = sampler.run([qc])  # Passar o circuito como uma lista\n",
    "\n",
    "# Obter os resultados do trabalho\n",
    "result = job.result()\n",
    "\n",
    "# Exibir os resultados\n",
    "print(\"Resultados:\", result.quasi_dists)\n"
   ]
  },
  {
   "cell_type": "code",
   "execution_count": 33,
   "metadata": {},
   "outputs": [
    {
     "name": "stdout",
     "output_type": "stream",
     "text": [
      "<qiskit.primitives.primitive_job.PrimitiveJob object at 0x745b141b6420>\n"
     ]
    },
    {
     "name": "stderr",
     "output_type": "stream",
     "text": [
      "/tmp/ipykernel_6342/283852434.py:3: DeprecationWarning: The class ``qiskit.primitives.sampler.Sampler`` is deprecated as of qiskit 1.2. It will be removed no earlier than 3 months after the release date. All implementations of the `BaseSamplerV1` interface have been deprecated in favor of their V2 counterparts. The V2 alternative for the `Sampler` class is `StatevectorSampler`.\n",
      "  sampler = Sampler()\n"
     ]
    }
   ],
   "source": [
    "from qiskit.primitives import Sampler\n",
    "\n",
    "sampler = Sampler()\n",
    "job = sampler.run(qc)\n",
    "job.result()\n",
    "\n",
    "print(job)"
   ]
  }
 ],
 "metadata": {
  "kernelspec": {
   "display_name": ".venv",
   "language": "python",
   "name": "python3"
  },
  "language_info": {
   "codemirror_mode": {
    "name": "ipython",
    "version": 3
   },
   "file_extension": ".py",
   "mimetype": "text/x-python",
   "name": "python",
   "nbconvert_exporter": "python",
   "pygments_lexer": "ipython3",
   "version": "3.12.3"
  }
 },
 "nbformat": 4,
 "nbformat_minor": 2
}
