{
 "cells": [
  {
   "cell_type": "code",
   "execution_count": 3,
   "metadata": {},
   "outputs": [],
   "source": [
    "from qiskit_ibm_runtime import QiskitRuntimeService\n",
    "\n",
    "# Salvar a conta com o canal correto\n",
    "QiskitRuntimeService.save_account(\n",
    "    token=\"75acdb50864742fffa775206d23d065002dab431ae93e543315b268b2e9186d4a307e7ec1f24ef943ec2d1c234b33227e939aff93393d7272b1ea780573d43de\",\n",
    "    channel=\"ibm_quantum\",\n",
    "    overwrite=True\n",
    ")\n"
   ]
  },
  {
   "cell_type": "code",
   "execution_count": 15,
   "metadata": {},
   "outputs": [
    {
     "data": {
      "image/png": "[encoded data removed]",
      "text/plain": [
       "<Figure size 580.387x284.278 with 1 Axes>"
      ]
     },
     "execution_count": 15,
     "metadata": {},
     "output_type": "execute_result"
    }
   ],
   "source": [
    "from qiskit import QuantumCircuit\n",
    "\n",
    "qc = QuantumCircuit(2)\n",
    "qc.h(0)\n",
    "qc.cx(0,1)\n",
    "\n",
    "qc.measure_all()\n",
    "\n",
    "qc.draw(\"mpl\")"
   ]
  },
  {
   "cell_type": "code",
   "execution_count": 17,
   "metadata": {},
   "outputs": [
    {
     "ename": "TypeError",
     "evalue": "must be real number, not list",
     "output_type": "error",
     "traceback": [
      "\u001b[1;31m---------------------------------------------------------------------------\u001b[0m",
      "\u001b[1;31mTypeError\u001b[0m                                 Traceback (most recent call last)",
      "Cell \u001b[1;32mIn[17], line 7\u001b[0m\n\u001b[0;32m      4\u001b[0m \u001b[38;5;28;01mfrom\u001b[39;00m \u001b[38;5;21;01mqiskit\u001b[39;00m \u001b[38;5;28;01mimport\u001b[39;00m QuantumCircuit\n\u001b[0;32m      6\u001b[0m \u001b[38;5;66;03m# Definir o Hamiltoniano H = Z_0 Z_1 + X_0\u001b[39;00m\n\u001b[1;32m----> 7\u001b[0m hamiltonian \u001b[38;5;241m=\u001b[39m \u001b[43mSparsePauliOp\u001b[49m\u001b[38;5;241;43m.\u001b[39;49m\u001b[43mfrom_list\u001b[49m\u001b[43m(\u001b[49m\u001b[43m[\u001b[49m\u001b[43m(\u001b[49m\u001b[38;5;124;43m\"\u001b[39;49m\u001b[38;5;124;43mZZ\u001b[39;49m\u001b[38;5;124;43m\"\u001b[39;49m\u001b[43m,\u001b[49m\u001b[43m \u001b[49m\u001b[43m[\u001b[49m\u001b[38;5;241;43m0\u001b[39;49m\u001b[43m,\u001b[49m\u001b[43m \u001b[49m\u001b[38;5;241;43m1\u001b[39;49m\u001b[43m]\u001b[49m\u001b[43m,\u001b[49m\u001b[43m \u001b[49m\u001b[38;5;241;43m1.0\u001b[39;49m\u001b[43m)\u001b[49m\u001b[43m,\u001b[49m\u001b[43m \u001b[49m\u001b[43m(\u001b[49m\u001b[38;5;124;43m\"\u001b[39;49m\u001b[38;5;124;43mX\u001b[39;49m\u001b[38;5;124;43m\"\u001b[39;49m\u001b[43m,\u001b[49m\u001b[43m \u001b[49m\u001b[43m[\u001b[49m\u001b[38;5;241;43m0\u001b[39;49m\u001b[43m]\u001b[49m\u001b[43m,\u001b[49m\u001b[43m \u001b[49m\u001b[38;5;241;43m0.5\u001b[39;49m\u001b[43m)\u001b[49m\u001b[43m]\u001b[49m\u001b[43m)\u001b[49m\n\u001b[0;32m      9\u001b[0m \u001b[38;5;66;03m# Estado inicial |ψ(0)⟩ = |00⟩\u001b[39;00m\n\u001b[0;32m     10\u001b[0m initial_state \u001b[38;5;241m=\u001b[39m QuantumCircuit(\u001b[38;5;241m2\u001b[39m)  \u001b[38;5;66;03m# Circuito com 2 qubits no estado |00>\u001b[39;00m\n",
      "File \u001b[1;32mc:\\Users\\bolar\\AppData\\Local\\Programs\\Python\\Python313\\Lib\\site-packages\\qiskit\\quantum_info\\operators\\symplectic\\sparse_pauli_op.py:834\u001b[0m, in \u001b[0;36mSparsePauliOp.from_list\u001b[1;34m(obj, dtype, num_qubits)\u001b[0m\n\u001b[0;32m    832\u001b[0m \u001b[38;5;28;01mfor\u001b[39;00m i, item \u001b[38;5;129;01min\u001b[39;00m \u001b[38;5;28menumerate\u001b[39m(obj):\n\u001b[0;32m    833\u001b[0m     labels[i] \u001b[38;5;241m=\u001b[39m item[\u001b[38;5;241m0\u001b[39m]\n\u001b[1;32m--> 834\u001b[0m     \u001b[43mcoeffs\u001b[49m\u001b[43m[\u001b[49m\u001b[43mi\u001b[49m\u001b[43m]\u001b[49m \u001b[38;5;241m=\u001b[39m item[\u001b[38;5;241m1\u001b[39m]\n\u001b[0;32m    836\u001b[0m paulis \u001b[38;5;241m=\u001b[39m PauliList(labels)\n\u001b[0;32m    837\u001b[0m \u001b[38;5;28;01mreturn\u001b[39;00m SparsePauliOp(paulis, coeffs, copy\u001b[38;5;241m=\u001b[39m\u001b[38;5;28;01mFalse\u001b[39;00m)\n",
      "\u001b[1;31mTypeError\u001b[0m: must be real number, not list"
     ]
    }
   ],
   "source": [
    "from qiskit_algorithms import TrotterQRTE\n",
    "from qiskit_algorithms.time_evolvers import TimeEvolutionProblem\n",
    "from qiskit.quantum_info import SparsePauliOp\n",
    "from qiskit import QuantumCircuit\n",
    "\n",
    "# Definir o Hamiltoniano H = Z_0 Z_1 + X_0\n",
    "hamiltonian = SparsePauliOp.from_list([(\"ZZ\", [0, 1], 1.0), (\"X\", [0], 0.5)])\n",
    "\n",
    "# Estado inicial |ψ(0)⟩ = |00⟩\n",
    "initial_state = QuantumCircuit(2)  # Circuito com 2 qubits no estado |00>\n",
    "\n",
    "# Definir o problema de evolução (H, estado inicial, tempo total de evolução)\n",
    "problem = TimeEvolutionProblem(\n",
    "    hamiltonian=hamiltonian,\n",
    "    initial_state=initial_state,\n",
    "    time=1.0  # Tempo total de evolução\n",
    ")\n",
    "\n",
    "# Criar o evolutor Trotterizado\n",
    "trotter = TrotterQRTE()\n",
    "\n",
    "# Realizar a evolução\n",
    "result = trotter.evolve(problem)\n",
    "\n",
    "# Mostrar o estado final\n",
    "print(\"Estado final:\", result.evolved_state)"
   ]
  },
  {
   "cell_type": "code",
   "execution_count": 2,
   "metadata": {},
   "outputs": [
    {
     "ename": "TypeError",
     "evalue": "must be real number, not list",
     "output_type": "error",
     "traceback": [
      "\u001b[1;31m---------------------------------------------------------------------------\u001b[0m",
      "\u001b[1;31mTypeError\u001b[0m                                 Traceback (most recent call last)",
      "Cell \u001b[1;32mIn[2], line 7\u001b[0m\n\u001b[0;32m      3\u001b[0m \u001b[38;5;28;01mfrom\u001b[39;00m \u001b[38;5;21;01mqiskit\u001b[39;00m\u001b[38;5;21;01m.\u001b[39;00m\u001b[38;5;21;01mquantum_info\u001b[39;00m \u001b[38;5;28;01mimport\u001b[39;00m SparsePauliOp, Statevector\n\u001b[0;32m      6\u001b[0m \u001b[38;5;66;03m# Definir o Hamiltoniano H = Z_0 Z_1 + X_0\u001b[39;00m\n\u001b[1;32m----> 7\u001b[0m hamiltonian \u001b[38;5;241m=\u001b[39m \u001b[43mSparsePauliOp\u001b[49m\u001b[38;5;241;43m.\u001b[39;49m\u001b[43mfrom_list\u001b[49m\u001b[43m(\u001b[49m\u001b[43m[\u001b[49m\u001b[43m(\u001b[49m\u001b[38;5;124;43m\"\u001b[39;49m\u001b[38;5;124;43mZZ\u001b[39;49m\u001b[38;5;124;43m\"\u001b[39;49m\u001b[43m,\u001b[49m\u001b[43m \u001b[49m\u001b[43m[\u001b[49m\u001b[38;5;241;43m0\u001b[39;49m\u001b[43m,\u001b[49m\u001b[43m \u001b[49m\u001b[38;5;241;43m1\u001b[39;49m\u001b[43m]\u001b[49m\u001b[43m,\u001b[49m\u001b[43m \u001b[49m\u001b[38;5;241;43m1.0\u001b[39;49m\u001b[43m)\u001b[49m\u001b[43m,\u001b[49m\u001b[43m \u001b[49m\u001b[43m(\u001b[49m\u001b[38;5;124;43m\"\u001b[39;49m\u001b[38;5;124;43mX\u001b[39;49m\u001b[38;5;124;43m\"\u001b[39;49m\u001b[43m,\u001b[49m\u001b[43m \u001b[49m\u001b[43m[\u001b[49m\u001b[38;5;241;43m0\u001b[39;49m\u001b[43m]\u001b[49m\u001b[43m,\u001b[49m\u001b[43m \u001b[49m\u001b[38;5;241;43m0.5\u001b[39;49m\u001b[43m)\u001b[49m\u001b[43m]\u001b[49m\u001b[43m)\u001b[49m\n\u001b[0;32m      9\u001b[0m \u001b[38;5;66;03m# Estado inicial |ψ(0)⟩ = |00⟩\u001b[39;00m\n\u001b[0;32m     10\u001b[0m initial_state \u001b[38;5;241m=\u001b[39m Statevector\u001b[38;5;241m.\u001b[39mfrom_dict({\u001b[38;5;124m\"\u001b[39m\u001b[38;5;124m00\u001b[39m\u001b[38;5;124m\"\u001b[39m: \u001b[38;5;241m1.0\u001b[39m})\n",
      "File \u001b[1;32mc:\\Users\\bolar\\AppData\\Local\\Programs\\Python\\Python313\\Lib\\site-packages\\qiskit\\quantum_info\\operators\\symplectic\\sparse_pauli_op.py:834\u001b[0m, in \u001b[0;36mSparsePauliOp.from_list\u001b[1;34m(obj, dtype, num_qubits)\u001b[0m\n\u001b[0;32m    832\u001b[0m \u001b[38;5;28;01mfor\u001b[39;00m i, item \u001b[38;5;129;01min\u001b[39;00m \u001b[38;5;28menumerate\u001b[39m(obj):\n\u001b[0;32m    833\u001b[0m     labels[i] \u001b[38;5;241m=\u001b[39m item[\u001b[38;5;241m0\u001b[39m]\n\u001b[1;32m--> 834\u001b[0m     \u001b[43mcoeffs\u001b[49m\u001b[43m[\u001b[49m\u001b[43mi\u001b[49m\u001b[43m]\u001b[49m \u001b[38;5;241m=\u001b[39m item[\u001b[38;5;241m1\u001b[39m]\n\u001b[0;32m    836\u001b[0m paulis \u001b[38;5;241m=\u001b[39m PauliList(labels)\n\u001b[0;32m    837\u001b[0m \u001b[38;5;28;01mreturn\u001b[39;00m SparsePauliOp(paulis, coeffs, copy\u001b[38;5;241m=\u001b[39m\u001b[38;5;28;01mFalse\u001b[39;00m)\n",
      "\u001b[1;31mTypeError\u001b[0m: must be real number, not list"
     ]
    }
   ],
   "source": [
    "from qiskit_algorithms import TrotterQRTE\n",
    "from qiskit_algorithms.time_evolvers import TimeEvolutionProblem\n",
    "from qiskit.quantum_info import SparsePauliOp, Statevector\n",
    "\n",
    "\n",
    "# Definir o Hamiltoniano H = Z_0 Z_1 + X_0\n",
    "hamiltonian = SparsePauliOp.from_list([(\"ZZ\", [0, 1], 1.0), (\"X\", [0], 0.5)])\n",
    "\n",
    "# Estado inicial |ψ(0)⟩ = |00⟩\n",
    "initial_state = Statevector.from_dict({\"00\": 1.0})\n",
    "\n",
    "# Definir o problema de evolução (H, estado inicial, tempo total de evolução)\n",
    "problem = TimeEvolutionProblem(\n",
    "    hamiltonian=hamiltonian,\n",
    "    initial_state=initial_state,\n",
    "    time=1.0  # Tempo total de evolução\n",
    ")\n",
    "\n",
    "# Criar o evolutor Trotterizado\n",
    "trotter = TrotterQRTE()\n",
    "\n",
    "# Realizar a evolução\n",
    "result = trotter.evolve(problem)\n",
    "\n",
    "# Mostrar o estado final\n",
    "print(\"Estado final:\", result.evolved_state)\n"
   ]
  }
 ],
 "metadata": {
  "kernelspec": {
   "display_name": "Python 3",
   "language": "python",
   "name": "python3"
  },
  "language_info": {
   "codemirror_mode": {
    "name": "ipython",
    "version": 3
   },
   "file_extension": ".py",
   "mimetype": "text/x-python",
   "name": "python",
   "nbconvert_exporter": "python",
   "pygments_lexer": "ipython3",
   "version": "3.13.0"
  }
 },
 "nbformat": 4,
 "nbformat_minor": 2
}
