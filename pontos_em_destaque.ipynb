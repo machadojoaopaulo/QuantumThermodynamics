version https://git-lfs.github.com/spec/v1
oid sha256:2add77bf0bce2309561f0351107a0893642f9ef7e234feebccea79df15b84183
size 980264
