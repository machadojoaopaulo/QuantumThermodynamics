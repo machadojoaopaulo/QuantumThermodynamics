version https://git-lfs.github.com/spec/v1
oid sha256:998add98ba9d0178fc957024d3069e0eac25092fb6ce31d044f6b37daeef35fa
size 387419
