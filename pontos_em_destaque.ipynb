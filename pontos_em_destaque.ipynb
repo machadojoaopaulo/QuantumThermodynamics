version https://git-lfs.github.com/spec/v1
oid sha256:aceb213bf3642abcd5c061226abc5cc8c5cad76a097535407b4eaba9ad7982de
size 446525
