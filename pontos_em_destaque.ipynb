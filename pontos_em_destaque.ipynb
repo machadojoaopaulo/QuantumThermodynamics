version https://git-lfs.github.com/spec/v1
oid sha256:d18f61bc64d2acf56cd275bce8c99f96074a061b49a0d03c865fb1b98b51a992
size 476259
