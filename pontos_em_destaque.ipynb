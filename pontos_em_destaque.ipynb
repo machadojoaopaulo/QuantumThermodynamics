version https://git-lfs.github.com/spec/v1
oid sha256:0f8424ce64cc408fcc7edf8b34dd7a5a946786a4f16e555d8a4896a5018bc31d
size 947884
