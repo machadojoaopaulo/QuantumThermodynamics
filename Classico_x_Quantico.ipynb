version https://git-lfs.github.com/spec/v1
oid sha256:d388e8529e3e0e58511fed7a822d1adf553c20eea6f004950ab67a0241166a47
size 20195
