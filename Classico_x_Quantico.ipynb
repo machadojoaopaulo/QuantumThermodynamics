version https://git-lfs.github.com/spec/v1
oid sha256:71710a7cc4613ca53cf042741fd6f374affc9985bdbd2849d565d5bf332091b9
size 46049
