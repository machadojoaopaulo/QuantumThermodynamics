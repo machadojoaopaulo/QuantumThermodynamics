version https://git-lfs.github.com/spec/v1
oid sha256:9aa047de8be356ec521a7f0cc7d55c86dd98080377e128c8f66154565f13b2a4
size 89
