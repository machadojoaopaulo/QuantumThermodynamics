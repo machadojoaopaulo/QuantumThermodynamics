version https://git-lfs.github.com/spec/v1
oid sha256:b80ebb747e47bf5520565d16f28ea1d8dcfad16d3d7a7b39e0f1245ec848c493
size 71587014
