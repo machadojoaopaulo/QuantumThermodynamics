version https://git-lfs.github.com/spec/v1
oid sha256:94dc72ed38f71c88602c1b5739ba6d4fc2df798ed2869a7c9a76c14e6eed763b
size 294
