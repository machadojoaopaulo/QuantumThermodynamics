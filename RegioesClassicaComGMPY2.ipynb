version https://git-lfs.github.com/spec/v1
oid sha256:23cce421e1f773fbe3e530f34d8081c14bea8ee8e13b4ee0d6cd81e839517ef8
size 249
