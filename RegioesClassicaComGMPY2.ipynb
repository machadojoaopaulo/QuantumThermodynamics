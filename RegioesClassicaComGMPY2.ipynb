version https://git-lfs.github.com/spec/v1
oid sha256:15d0c0bb24e3804aa2623fea40555a8145ab93be84d9c7351ba181febee62878
size 385
