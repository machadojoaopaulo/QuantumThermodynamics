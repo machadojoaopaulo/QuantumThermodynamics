version https://git-lfs.github.com/spec/v1
oid sha256:b5bef0870cef5ee5c19ef2bef4205524eed1b2071ee15f0db18635f72cd2b46b
size 370
