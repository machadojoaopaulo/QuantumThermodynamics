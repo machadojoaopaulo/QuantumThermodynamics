version https://git-lfs.github.com/spec/v1
oid sha256:669927abc8d2a861ce630804dcba68d2864a197be8c61b5527a6f9d1ef9a6798
size 280573
