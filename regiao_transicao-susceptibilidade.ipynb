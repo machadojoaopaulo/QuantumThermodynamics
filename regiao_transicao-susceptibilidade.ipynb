version https://git-lfs.github.com/spec/v1
oid sha256:57e66af0560fa336d4af403ff0275161632741a847c3ca29fbdf64905b51fc8e
size 281897
