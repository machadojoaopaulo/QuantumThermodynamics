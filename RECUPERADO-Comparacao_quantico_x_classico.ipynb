version https://git-lfs.github.com/spec/v1
oid sha256:87098ba36558eb944becf65ccc5ab93dce21745de22555b91575b4899dc1ea62
size 77822
