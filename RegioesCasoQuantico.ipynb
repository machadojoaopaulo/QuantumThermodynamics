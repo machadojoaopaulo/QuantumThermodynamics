version https://git-lfs.github.com/spec/v1
oid sha256:39933430c191c19944c865bdd3bd114db8b4ae250b3f9c2923c934b5bf24c250
size 811569
