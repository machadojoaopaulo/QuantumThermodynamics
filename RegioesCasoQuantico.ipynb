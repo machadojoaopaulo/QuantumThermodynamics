version https://git-lfs.github.com/spec/v1
oid sha256:f828445dacfbea69e772b36412075c3642663c9be5b70eec036de77593219a58
size 290
