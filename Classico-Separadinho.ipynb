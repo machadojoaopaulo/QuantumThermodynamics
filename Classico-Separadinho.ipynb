version https://git-lfs.github.com/spec/v1
oid sha256:b4830a0eebda6210599336bfaa91513230294111be483a247dda81a82aebef30
size 295
