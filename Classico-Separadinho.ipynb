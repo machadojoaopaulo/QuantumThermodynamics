version https://git-lfs.github.com/spec/v1
oid sha256:15e481019c8054a91339c9567e161b978613218c73c8bf3eb81c6bd04a014e06
size 146756421