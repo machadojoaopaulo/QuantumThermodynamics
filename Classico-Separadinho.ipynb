version https://git-lfs.github.com/spec/v1
oid sha256:714daa2cab68462148d444f8699d6a7c6c2010ccb25bc9e883b2db8a9a008361
size 145896152
