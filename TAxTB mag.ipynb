version https://git-lfs.github.com/spec/v1
oid sha256:b8ccac15c55dcdca01a3bfd15722211bca121348ca15cd6c035c6231d9d5205c
size 86309335
