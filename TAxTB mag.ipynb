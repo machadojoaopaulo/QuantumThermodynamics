version https://git-lfs.github.com/spec/v1
oid sha256:7ccfdca492c07df3edb6448b2844e317edfac50fde9a01d579527c2dd0670bf7
size 89855319
