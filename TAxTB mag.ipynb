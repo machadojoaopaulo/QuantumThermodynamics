version https://git-lfs.github.com/spec/v1
oid sha256:b6b3021e7806b58a416854545f70ae17c26a9c4f230c76c277b9715cbf09d0dd
size 86058916
