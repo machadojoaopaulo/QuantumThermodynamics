version https://git-lfs.github.com/spec/v1
oid sha256:3e3c9d53252ddf7a8054db5c36af5f8585a4b7a48e15019c5c492e929ce3e0e8
size 85484978
