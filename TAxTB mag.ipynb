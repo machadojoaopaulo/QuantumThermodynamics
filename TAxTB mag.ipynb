version https://git-lfs.github.com/spec/v1
oid sha256:532e3bc77af1dc6084b28fc306f08e11fa79098d6f972f36d2b3040d5c89fff8
size 118608654
