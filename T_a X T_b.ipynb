version https://git-lfs.github.com/spec/v1
oid sha256:cc2c795af9750ee4a5cd05840fe0335d65aeb31481973f9bd77f2902291a29f2
size 280297
