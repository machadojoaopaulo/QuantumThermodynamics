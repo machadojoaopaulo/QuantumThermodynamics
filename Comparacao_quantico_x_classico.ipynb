version https://git-lfs.github.com/spec/v1
oid sha256:767f6c3bf35d33942b8fd31fed0b605359577eb4f265cab835629232d2e58a2a
size 46955
