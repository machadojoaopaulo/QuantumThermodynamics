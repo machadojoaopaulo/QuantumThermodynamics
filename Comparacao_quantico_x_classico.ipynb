version https://git-lfs.github.com/spec/v1
oid sha256:a4e67f284d91566a1a947d72bca30e0c5b8cd14097999ed02d7e0340f781e1ed
size 76852
