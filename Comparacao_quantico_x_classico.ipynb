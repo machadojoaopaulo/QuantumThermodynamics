version https://git-lfs.github.com/spec/v1
oid sha256:f99fe1f951bc9cc706a37063458727348f18cc2399cdb98f8d7ac575e5a8e96b
size 288
