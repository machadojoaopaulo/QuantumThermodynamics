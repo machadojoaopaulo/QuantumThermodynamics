version https://git-lfs.github.com/spec/v1
oid sha256:28277234a97629bb2a2e53ae3f41589771179481d3c3c521be7ac79f05dc755f
size 70214
