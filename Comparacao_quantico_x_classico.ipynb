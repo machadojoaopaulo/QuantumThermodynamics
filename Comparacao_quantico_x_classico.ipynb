version https://git-lfs.github.com/spec/v1
oid sha256:d158ad6876467813a0c347b1bc27cd7b9288475a9268aae14187c5289ae520a7
size 91186
