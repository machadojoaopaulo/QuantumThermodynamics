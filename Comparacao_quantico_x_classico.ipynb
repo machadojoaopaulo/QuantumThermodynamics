version https://git-lfs.github.com/spec/v1
oid sha256:9a9ec1687939e23819853fd4a212ae9cc357cf0f213e1a2dfdf421c0cee2f9b6
size 66704
