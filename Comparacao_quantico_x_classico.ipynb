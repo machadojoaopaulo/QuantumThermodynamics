version https://git-lfs.github.com/spec/v1
oid sha256:5e5f46a6d9dd37e1b4173838394df4c4b8c3d47d0eef78fb072a1e621592d564
size 54795
