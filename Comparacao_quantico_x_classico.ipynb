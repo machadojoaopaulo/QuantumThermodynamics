version https://git-lfs.github.com/spec/v1
oid sha256:5960f2208a51afc52b5e7992bb9a81c1d4830b9ad237709faaf66218f64ad152
size 111880
