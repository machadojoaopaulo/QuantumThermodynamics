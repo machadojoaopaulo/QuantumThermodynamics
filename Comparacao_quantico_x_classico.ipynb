version https://git-lfs.github.com/spec/v1
oid sha256:c52a017af6e48348fb8da7b2800662bce7d06f540fe372ce38924f20396664fc
size 70213
