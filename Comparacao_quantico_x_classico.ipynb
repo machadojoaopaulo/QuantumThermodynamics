version https://git-lfs.github.com/spec/v1
oid sha256:ad2d6ed05f73cb6db602c5abef5d21919063341e7f1b259b555ffeb4e8b7da86
size 66526
