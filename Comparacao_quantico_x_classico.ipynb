version https://git-lfs.github.com/spec/v1
oid sha256:883dbfc72710945ec7083d64bbea5c81bb7380bedfbf5ab68bcafcecbe32c953
size 46945
