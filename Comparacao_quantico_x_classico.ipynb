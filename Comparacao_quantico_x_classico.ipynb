version https://git-lfs.github.com/spec/v1
oid sha256:6436d053771019c8614fbe832a0a9a01013c45657c50241c2e13ee0691f55836
size 112015
