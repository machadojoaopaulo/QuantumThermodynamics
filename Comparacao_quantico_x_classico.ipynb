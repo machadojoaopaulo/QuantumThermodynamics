version https://git-lfs.github.com/spec/v1
oid sha256:c3c0f57653b117ac9b35b3c4aecc599bd047986e8920c72773cb7849057db35e
size 89284
