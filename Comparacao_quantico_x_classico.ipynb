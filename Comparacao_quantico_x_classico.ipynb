version https://git-lfs.github.com/spec/v1
oid sha256:5c2db2375482c224e9e670402af362602f5ab6e80e1bd8b53fb3245b61d69f7e
size 76834
