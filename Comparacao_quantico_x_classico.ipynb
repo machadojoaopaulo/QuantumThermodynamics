version https://git-lfs.github.com/spec/v1
oid sha256:7958444d0879efcc9103db5387546651aa3cdc571c75d1fbda0e4df7253b1e57
size 7322
