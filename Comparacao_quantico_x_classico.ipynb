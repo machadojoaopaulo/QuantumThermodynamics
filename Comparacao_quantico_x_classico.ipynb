version https://git-lfs.github.com/spec/v1
oid sha256:c5becc630c200113e7c0a0893e1a05b884bca4a3dd9ae520d8a4aba51e5f6b13
size 28369
